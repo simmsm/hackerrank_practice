{
 "cells": [
  {
   "cell_type": "code",
   "execution_count": 1,
   "id": "b7f00fe6",
   "metadata": {},
   "outputs": [],
   "source": [
    "#The function is expected to return an INTEGER_ARRAY.\n",
    "# The function accepts following parameters:\n",
    "#  1. STRING_ARRAY strings\n",
    "#  2. STRING_ARRAY queries\n",
    "#\n",
    "\n",
    "def matchingStrings(strings, queries):\n",
    "    results = []\n",
    "\n",
    "    for query in queries:\n",
    "        count = 0\n",
    "        for input_str in strings:\n",
    "            if query == input_str:\n",
    "                count += 1\n",
    "        results.append(count)\n",
    "\n",
    "    return results\n"
   ]
  },
  {
   "cell_type": "code",
   "execution_count": 4,
   "id": "d652725d",
   "metadata": {},
   "outputs": [
    {
     "name": "stdout",
     "output_type": "stream",
     "text": [
      "3\n",
      "4\n",
      "3\n",
      "4\n",
      "4\n",
      "4\n",
      "4\n",
      "4\n",
      "4\n"
     ]
    }
   ],
   "source": [
    "strings_count = int(input().strip())\n",
    "\n",
    "strings = []\n",
    "\n",
    "for _ in range(strings_count):\n",
    "    strings_item = input()\n",
    "    strings.append(strings_item)\n",
    "\n",
    "queries_count = int(input().strip())\n",
    "\n",
    "queries = []\n",
    "\n",
    "for _ in range(queries_count):\n",
    "    queries_item = input()\n",
    "    queries.append(queries_item)"
   ]
  },
  {
   "cell_type": "code",
   "execution_count": 5,
   "id": "699fd12a",
   "metadata": {},
   "outputs": [
    {
     "name": "stdout",
     "output_type": "stream",
     "text": [
      "[2, 2, 2, 2]\n"
     ]
    }
   ],
   "source": [
    "res= matchingStrings(strings, queries)\n",
    "print(res)"
   ]
  },
  {
   "cell_type": "code",
   "execution_count": null,
   "id": "9e298064",
   "metadata": {},
   "outputs": [],
   "source": []
  }
 ],
 "metadata": {
  "kernelspec": {
   "display_name": "Python 3 (ipykernel)",
   "language": "python",
   "name": "python3"
  },
  "language_info": {
   "codemirror_mode": {
    "name": "ipython",
    "version": 3
   },
   "file_extension": ".py",
   "mimetype": "text/x-python",
   "name": "python",
   "nbconvert_exporter": "python",
   "pygments_lexer": "ipython3",
   "version": "3.10.9"
  }
 },
 "nbformat": 4,
 "nbformat_minor": 5
}

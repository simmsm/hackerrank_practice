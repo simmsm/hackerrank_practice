{
 "cells": [
  {
   "cell_type": "code",
   "execution_count": 1,
   "id": "1bdf3502",
   "metadata": {},
   "outputs": [
    {
     "name": "stdout",
     "output_type": "stream",
     "text": [
      "2:30:45PM\n",
      "14:30:45\n"
     ]
    }
   ],
   "source": [
    "#!/bin/python3\n",
    "\n",
    "import math\n",
    "import os\n",
    "import random\n",
    "import re\n",
    "import sys\n",
    "\n",
    "#\n",
    "#\n",
    "# The function is expected to return a STRING.\n",
    "# The function accepts STRING s as parameter.\n",
    "#\n",
    "\n",
    "def timeConversion(s):\n",
    "    # Split the time string into hours, minutes, and AM/PM parts\n",
    "    time_parts = s.split(':')\n",
    "    hours = int(time_parts[0])\n",
    "    minutes = int(time_parts[1][:2])  # Extract the first 2 characters for minutes\n",
    "    seconds= int(time_parts[2][:2])\n",
    "    am_pm = time_parts[2][-2:]  # Extract the last 2 characters for AM/PM\n",
    "\n",
    "    # Check if it's AM or PM and adjust hours accordingly\n",
    "    if am_pm == 'PM' and hours < 12:\n",
    "        hours += 12\n",
    "    elif am_pm == 'AM'and hours ==12:\n",
    "        hours = 0\n",
    "\n",
    "    # Format the result as 24-hour time\n",
    "    military_time = f\"{hours:02d}:{minutes:02d}:{seconds:02d}\"\n",
    "    \n",
    "    return military_time\n",
    "\n",
    "if __name__ == '__main__':\n",
    "    #fptr = open(os.environ['OUTPUT_PATH'], 'w')\n",
    "\n",
    "    s = input()\n",
    "\n",
    "    result = timeConversion(s)\n",
    "    print (result)\n",
    "    #fptr.write(result + '\\n')\n",
    "\n",
    "    #fptr.close()\n",
    "\n",
    "\n"
   ]
  },
  {
   "cell_type": "code",
   "execution_count": null,
   "id": "06cfc0cd",
   "metadata": {},
   "outputs": [],
   "source": []
  }
 ],
 "metadata": {
  "kernelspec": {
   "display_name": "Python 3 (ipykernel)",
   "language": "python",
   "name": "python3"
  },
  "language_info": {
   "codemirror_mode": {
    "name": "ipython",
    "version": 3
   },
   "file_extension": ".py",
   "mimetype": "text/x-python",
   "name": "python",
   "nbconvert_exporter": "python",
   "pygments_lexer": "ipython3",
   "version": "3.10.9"
  }
 },
 "nbformat": 4,
 "nbformat_minor": 5
}

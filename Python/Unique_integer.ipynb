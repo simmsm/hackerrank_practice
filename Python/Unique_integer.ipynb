{
 "cells": [
  {
   "cell_type": "markdown",
   "id": "aea32395",
   "metadata": {},
   "source": [
    "Given an array of integers, where all elements but one occur twice, find the unique element."
   ]
  },
  {
   "cell_type": "code",
   "execution_count": 1,
   "id": "5513bb41",
   "metadata": {},
   "outputs": [],
   "source": [
    "# The function is expected to return an INTEGER.\n",
    "# The function accepts INTEGER_ARRAY a as parameter.\n",
    "#\n",
    "\n",
    "def lonelyinteger(a):\n",
    "    unique_element=0\n",
    "    for num in a:\n",
    "        unique_element ^= num\n",
    "    return unique_element\n",
    "        "
   ]
  },
  {
   "cell_type": "code",
   "execution_count": 2,
   "id": "3a756ba9",
   "metadata": {},
   "outputs": [
    {
     "name": "stdout",
     "output_type": "stream",
     "text": [
      "5\n",
      "2 3 3 2 5\n",
      "5\n"
     ]
    }
   ],
   "source": [
    "n = int(input().strip())\n",
    "\n",
    "a = list(map(int, input().rstrip().split()))\n",
    "\n",
    "result = lonelyinteger(a)\n",
    "print (result)"
   ]
  },
  {
   "cell_type": "code",
   "execution_count": null,
   "id": "d0b9f56f",
   "metadata": {},
   "outputs": [],
   "source": []
  }
 ],
 "metadata": {
  "kernelspec": {
   "display_name": "Python 3 (ipykernel)",
   "language": "python",
   "name": "python3"
  },
  "language_info": {
   "codemirror_mode": {
    "name": "ipython",
    "version": 3
   },
   "file_extension": ".py",
   "mimetype": "text/x-python",
   "name": "python",
   "nbconvert_exporter": "python",
   "pygments_lexer": "ipython3",
   "version": "3.10.9"
  }
 },
 "nbformat": 4,
 "nbformat_minor": 5
}

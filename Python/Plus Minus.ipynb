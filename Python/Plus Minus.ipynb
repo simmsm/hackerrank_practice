{
 "cells": [
  {
   "cell_type": "code",
   "execution_count": 1,
   "id": "0d199f54",
   "metadata": {},
   "outputs": [
    {
     "name": "stdout",
     "output_type": "stream",
     "text": [
      "9\n",
      "9\n",
      "1.000000\n",
      "0.000000\n",
      "0.000000\n"
     ]
    }
   ],
   "source": [
    "#!/bin/python3\n",
    "\n",
    "import math\n",
    "import os\n",
    "import random\n",
    "import re\n",
    "import sys\n",
    "\n",
    "#\n",
    "# Complete the 'plusMinus' function below.\n",
    "#\n",
    "# The function accepts INTEGER_ARRAY arr as parameter.\n",
    "#\n",
    "\n",
    "def plusMinus(arr):\n",
    "    # Create counts for the number of positive, negative, and '0' in an array\n",
    "    total = len(arr)\n",
    "    positive_count = sum(1 for num in arr if num > 0)\n",
    "    negative_count = sum(1 for num in arr if num < 0)\n",
    "    zero_count = sum(1 for num in arr if num == 0)\n",
    "    \n",
    "    # get the ratio by dividing by the length of the array\n",
    "    positive_ratio = positive_count / total\n",
    "    negative_ratio = negative_count / total\n",
    "    zero_ratio = zero_count / total\n",
    "    \n",
    "    # Format the results to print to 6 decimal places\n",
    "    print(\"{:.6f}\".format(positive_ratio))\n",
    "    print(\"{:.6f}\".format(negative_ratio))\n",
    "    print(\"{:.6f}\".format(zero_ratio))\n",
    "        \n",
    "if __name__ == '__main__':\n",
    "    n = int(input().strip())\n",
    "    \n",
    "    #add parameters to the test for the value of the numbers 'n' in the array, and the total length of the array, arr[i]\n",
    "    if n < 0 or n > 100:\n",
    "        print(\"Value of n must be between 0 and 100.\")\n",
    "        sys.exit(1)\n",
    "\n",
    "    arr = list(map(int, input().rstrip().split()))\n",
    "    \n",
    "    for num in arr:\n",
    "        if num < -100 or num > 100:\n",
    "            print(\"Array elements must be between -100 and 100.\")\n",
    "            sys.exit(1)\n",
    "\n",
    "\n",
    "    plusMinus(arr)\n"
   ]
  },
  {
   "cell_type": "code",
   "execution_count": null,
   "id": "894d1ed2",
   "metadata": {},
   "outputs": [],
   "source": []
  }
 ],
 "metadata": {
  "kernelspec": {
   "display_name": "Python 3 (ipykernel)",
   "language": "python",
   "name": "python3"
  },
  "language_info": {
   "codemirror_mode": {
    "name": "ipython",
    "version": 3
   },
   "file_extension": ".py",
   "mimetype": "text/x-python",
   "name": "python",
   "nbconvert_exporter": "python",
   "pygments_lexer": "ipython3",
   "version": "3.10.9"
  }
 },
 "nbformat": 4,
 "nbformat_minor": 5
}
